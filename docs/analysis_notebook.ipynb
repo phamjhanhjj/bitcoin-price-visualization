{
 "cells": [
  {
   "cell_type": "markdown",
   "id": "4ae1c095",
   "metadata": {},
   "source": [
    "# Notebook: Phân tích dữ liệu Bitcoin\n",
    "\n",
    "Notebook này tải file Parquet đã xử lý, tính lợi suất, vẽ histogram lợi suất và thời gian biến động (30-day rolling annualized)."
   ]
  },
  {
   "cell_type": "code",
   "execution_count": null,
   "id": "ee85879e",
   "metadata": {},
   "outputs": [],
   "source": [
    "import pandas as pd\n",
    "import numpy as np\n",
    "import matplotlib.pyplot as plt\n",
    "from pathlib import Path\n",
    "%matplotlib inline"
   ]
  },
  {
   "cell_type": "code",
   "execution_count": null,
   "id": "2aa78e94",
   "metadata": {},
   "outputs": [],
   "source": [
    "ROOT = Path('..').resolve()\n",
    "PROCESSED_DIR = ROOT / 'data' / 'processed'\n",
    "parquets = list(PROCESSED_DIR.glob('*.parquet'))\n",
    "parquets"
   ]
  },
  {
   "cell_type": "code",
   "execution_count": null,
   "id": "3a40bebc",
   "metadata": {},
   "outputs": [],
   "source": [
    "# Load the bitcoin parquet (choose one if multiple)\n",
    "btc = [p for p in parquets if 'bitcoin' in p.name.lower()][0]\n",
    ": \n",
    ",\n",
    ": {\n",
    ": \n",
    "},\n",
    ": [\n",
    ",\n",
    ",\n",
    "\n",
    ": \n",
    ",\n",
    ": {\n",
    ": \n",
    "},\n",
    ": [\n",
    ",\n",
    ",\n",
    ",\n",
    "\n",
    ": \n",
    ",\n",
    ": {\n",
    ": \n",
    "},\n",
    ": [\n",
    ",\n",
    ",\n",
    "4\n",
    ",\n",
    ",\n",
    ",\n",
    ",\n",
    ",\n",
    ",\n",
    "\n",
    ": \n",
    ",\n",
    ": {\n",
    ": \n",
    "},\n",
    ": [\n",
    ",\n",
    ",\n",
    "4\n",
    ",\n"
   ]
  }
 ],
 "metadata": {
  "language_info": {
   "name": "python"
  }
 },
 "nbformat": 4,
 "nbformat_minor": 5
}
